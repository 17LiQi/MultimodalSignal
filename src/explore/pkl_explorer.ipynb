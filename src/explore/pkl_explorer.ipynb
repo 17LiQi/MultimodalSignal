{
 "cells": [
  {
   "metadata": {},
   "cell_type": "code",
   "outputs": [],
   "execution_count": null,
   "source": [
    "import pickle\n",
    "import numpy as np\n",
    "import pandas as pd\n",
    "from collections import Counter\n",
    "from src.utils.path_manager import get_path_manager\n",
    "import matplotlib.pyplot as plt\n"
   ],
   "id": "548cb4d4fc126d6"
  },
  {
   "metadata": {},
   "cell_type": "code",
   "outputs": [],
   "execution_count": null,
   "source": [
    "def load_pkl(file_path):\n",
    "    \"\"\"\n",
    "    加载pkl文件\n",
    "    参数:file_path (str): pkl文件的路径\n",
    "    返回:object: 加载的对象\n",
    "    \"\"\"\n",
    "    try:\n",
    "        with open(file_path, 'rb') as f:\n",
    "            data = pickle.load(f, encoding='bytes')\n",
    "            return data\n",
    "    except FileNotFoundError:\n",
    "        print(f\"无法找到文件{file_path}\")\n",
    "        return None\n",
    "    except Exception as e:\n",
    "        print(e)\n",
    "        return None"
   ],
   "id": "17b9cb212bd54a6a"
  },
  {
   "cell_type": "code",
   "id": "initial_id",
   "metadata": {
    "collapsed": true,
    "ExecuteTime": {
     "end_time": "2025-07-16T05:14:55.987642Z",
     "start_time": "2025-07-16T05:14:55.652444Z"
    }
   },
   "source": [
    "# 指定pkl文件路径\n",
    "paths = get_path_manager()\n",
    "data_root = paths.WESAD_ROOT\n",
    "file_path = data_root / \"S2\" / \"S2.pkl\"\n",
    "print(file_path)\n"
   ],
   "outputs": [
    {
     "name": "stdout",
     "output_type": "stream",
     "text": [
      "D:\\Apps\\Development\\Projects\\MultimodalSignal\\WESAD\\S2\\S2.pkl\n"
     ]
    }
   ],
   "execution_count": 1
  },
  {
   "metadata": {
    "ExecuteTime": {
     "end_time": "2025-07-16T05:29:08.539532Z",
     "start_time": "2025-07-16T05:29:06.067982Z"
    }
   },
   "cell_type": "code",
   "source": [
    "# 加载数据\n",
    "data = load_pkl(file_path)\n",
    "\n",
    "print(f\"数据类型:{type(data)}\")\n",
    "\n",
    "print(\"字典键:\")\n",
    "\n",
    "for key , vaul in data.items():\n",
    "    vaul_type = type(vaul)\n",
    "    size_info = \" \"\n",
    "    if hasattr(vaul, \"__len__\"):\n",
    "        size_info = f\" (长度{len(vaul)})\"\n",
    "    elif hasattr(vaul, \"shape\"):\n",
    "        size_info = f\" (形状{vaul.shape})\"\n",
    "    print(f\"{key}: {vaul_type}{size_info}\")\n",
    "\n",
    "    if isinstance(vaul, np.ndarray):\n",
    "        print(f\"  数组信息 ({key}): 形状={vaul.shape}, 类型={vaul.dtype}, \"\n",
    "                      f\"最小值={vaul.min()}, 最大值={vaul.max()}, \"\n",
    "                      f\"均值={vaul.mean():.4f}, 标准差={vaul.std():.4f}\")\n",
    "\n",
    "for sub_key, sub_data in data[b'signal'].items():\n",
    "    print(f\"{sub_key}: {type(sub_data)}, 长度={len(sub_data)}\")\n",
    "\n",
    "wrist_data = data[b'signal'][b'wrist']\n",
    "print(\"wrist 子键:\", wrist_data.keys())\n",
    "for sub_key, sub_array in wrist_data.items():\n",
    "    if isinstance(sub_array, np.ndarray):\n",
    "        print(f\"{sub_key}: {type(sub_array)}, 形状={sub_array.shape}, 类型={sub_array.dtype}\")\n"
   ],
   "id": "a1e372f41cd9011f",
   "outputs": [
    {
     "name": "stdout",
     "output_type": "stream",
     "text": [
      "数据类型:<class 'dict'>\n",
      "字典键:\n",
      "b'signal': <class 'dict'> (长度2)\n",
      "b'label': <class 'numpy.ndarray'> (长度4255300)\n",
      "  数组信息 (b'label'): 形状=(4255300,), 类型=int32, 最小值=0, 最大值=7, 均值=1.2124, 标准差=1.6066\n",
      "b'subject': <class 'bytes'> (长度2)\n",
      "b'chest': <class 'dict'>, 长度=6\n",
      "b'wrist': <class 'dict'>, 长度=4\n",
      "wrist 子键: dict_keys([b'ACC', b'BVP', b'EDA', b'TEMP'])\n",
      "b'ACC': <class 'numpy.ndarray'>, 形状=(194528, 3), 类型=float64\n",
      "b'BVP': <class 'numpy.ndarray'>, 形状=(389056, 1), 类型=float64\n",
      "b'EDA': <class 'numpy.ndarray'>, 形状=(24316, 1), 类型=float64\n",
      "b'TEMP': <class 'numpy.ndarray'>, 形状=(24316, 1), 类型=float64\n"
     ]
    }
   ],
   "execution_count": 10
  },
  {
   "metadata": {
    "ExecuteTime": {
     "end_time": "2025-07-16T06:01:18.909582Z",
     "start_time": "2025-07-16T06:01:18.667796Z"
    }
   },
   "cell_type": "code",
   "source": [
    "chest_signals = data[b'signal'][b'chest']\n",
    "print(pkl_data[b'signal'][b'chest'].keys())\n",
    "\n",
    "for signal_name, signal_data in chest_signals.items():\n",
    "    if isinstance(signal_data, np.ndarray):\n",
    "        print(f\"\\n信号: {signal_name}\")\n",
    "        print(f\"形状: {signal_data.shape}\")\n",
    "        print(f\"类型: {signal_data.dtype}\")\n",
    "        print(f\"最小值: {signal_data.min()}\")\n",
    "        print(f\"最大值: {signal_data.max()}\")\n",
    "        print(f\"均值: {signal_data.mean():.4f}\")\n",
    "        print(f\"标准差: {signal_data.std():.4f}\")\n"
   ],
   "id": "2adfee499dce7d88",
   "outputs": [
    {
     "name": "stdout",
     "output_type": "stream",
     "text": [
      "dict_keys([b'ACC', b'ECG', b'EMG', b'EDA', b'Temp', b'Resp'])\n",
      "\n",
      "信号: b'ACC'\n",
      "形状: (4255300, 3)\n",
      "类型: float64\n",
      "最小值: -1.1354000568389893\n",
      "最大值: 2.0297999382019043\n",
      "均值: 0.0660\n",
      "标准差: 0.5405\n",
      "\n",
      "信号: b'ECG'\n",
      "形状: (4255300, 1)\n",
      "类型: float64\n",
      "最小值: -1.499542236328125\n",
      "最大值: 1.4993133544921875\n",
      "均值: 0.0012\n",
      "标准差: 0.1541\n",
      "\n",
      "信号: b'EMG'\n",
      "形状: (4255300, 1)\n",
      "类型: float64\n",
      "最小值: -0.4149627685546875\n",
      "最大值: 0.3009796142578125\n",
      "均值: -0.0024\n",
      "标准差: 0.0117\n",
      "\n",
      "信号: b'EDA'\n",
      "形状: (4255300, 1)\n",
      "类型: float64\n",
      "最小值: 0.263214111328125\n",
      "最大值: 7.576751708984375\n",
      "均值: 1.5284\n",
      "标准差: 1.2384\n",
      "\n",
      "信号: b'Temp'\n",
      "形状: (4255300, 1)\n",
      "类型: float32\n",
      "最小值: 28.045257568359375\n",
      "最大值: 34.370391845703125\n",
      "均值: 30.8767\n",
      "标准差: 1.2811\n",
      "\n",
      "信号: b'Resp'\n",
      "形状: (4255300, 1)\n",
      "类型: float64\n",
      "最小值: -27.90374755859375\n",
      "最大值: 27.37884521484375\n",
      "均值: 0.0549\n",
      "标准差: 2.9177\n"
     ]
    }
   ],
   "execution_count": 22
  },
  {
   "metadata": {
    "ExecuteTime": {
     "end_time": "2025-07-16T05:28:17.501490Z",
     "start_time": "2025-07-16T05:28:17.482039Z"
    }
   },
   "cell_type": "code",
   "source": [
    "wrist_signals = data[b'signal'][b'wrist']\n",
    "for signal_name, signal_data in wrist_signals.items():\n",
    "    if isinstance(signal_data, np.ndarray):\n",
    "        print(f\"\\n信号: {signal_name}\")\n",
    "        print(f\"形状: {signal_data.shape}\")\n",
    "        print(f\"类型: {signal_data.dtype}\")\n",
    "        print(f\"最小值: {signal_data.min()}\")\n",
    "        print(f\"最大值: {signal_data.max()}\")\n",
    "        print(f\"均值: {signal_data.mean():.4f}\")\n",
    "        print(f\"标准差: {signal_data.std():.4f}\")\n"
   ],
   "id": "1a6cc14cf157c6ff",
   "outputs": [
    {
     "name": "stdout",
     "output_type": "stream",
     "text": [
      "\n",
      "信号: b'ACC'\n",
      "形状: (194528, 3)\n",
      "类型: float64\n",
      "最小值: -128.0\n",
      "最大值: 127.0\n",
      "均值: 19.4282\n",
      "标准差: 31.1639\n",
      "\n",
      "信号: b'BVP'\n",
      "形状: (389056, 1)\n",
      "类型: float64\n",
      "最小值: -873.67\n",
      "最大值: 988.08\n",
      "均值: -0.0004\n",
      "标准差: 75.8712\n",
      "\n",
      "信号: b'EDA'\n",
      "形状: (24316, 1)\n",
      "类型: float64\n",
      "最小值: 0.045113\n",
      "最大值: 1.717419\n",
      "均值: 0.3917\n",
      "标准差: 0.3292\n",
      "\n",
      "信号: b'TEMP'\n",
      "形状: (24316, 1)\n",
      "类型: float64\n",
      "最小值: 32.31\n",
      "最大值: 35.97\n",
      "均值: 34.3869\n",
      "标准差: 1.0453\n"
     ]
    }
   ],
   "execution_count": 9
  },
  {
   "metadata": {
    "ExecuteTime": {
     "end_time": "2025-07-16T05:32:47.347866Z",
     "start_time": "2025-07-16T05:32:46.285052Z"
    }
   },
   "cell_type": "code",
   "source": [
    "\n",
    "labels = data[b'label']\n",
    "label_counts = Counter(labels)\n",
    "\n",
    "# 打印分布\n",
    "print(\"标签分布:\", label_counts)\n",
    "\n",
    "# 可视化\n",
    "plt.bar(label_counts.keys(), label_counts.values())\n",
    "plt.xlabel('Label')\n",
    "plt.ylabel('Frequency')\n",
    "plt.title('Label Distribution')\n",
    "plt.show()\n"
   ],
   "id": "9487c35b04f6102e",
   "outputs": [
    {
     "name": "stdout",
     "output_type": "stream",
     "text": [
      "标签分布: Counter({np.int32(0): 2142701, np.int32(1): 800800, np.int32(4): 537599, np.int32(2): 430500, np.int32(3): 253400, np.int32(6): 45500, np.int32(7): 44800})\n"
     ]
    },
    {
     "data": {
      "text/plain": [
       "<Figure size 640x480 with 1 Axes>"
      ],
      "image/png": "[encoded data removed]"
     },
     "metadata": {},
     "output_type": "display_data"
    }
   ],
   "execution_count": 11
  },
  {
   "metadata": {
    "ExecuteTime": {
     "end_time": "2025-07-16T05:49:31.644439Z",
     "start_time": "2025-07-16T05:49:29.366970Z"
    }
   },
   "cell_type": "code",
   "source": [
    "\n",
    "# 读取原始 OpenSignals TXT 文件\n",
    "def read_opensignals_file(file_path):\n",
    "    with open(file_path, 'r') as f:\n",
    "        header_lines = []\n",
    "        line = f.readline()\n",
    "        while \"# EndOfHeader\" not in line:\n",
    "            header_lines.append(line)\n",
    "            line = f.readline()\n",
    "        # 读取数据部分\n",
    "        df = pd.read_csv(f, sep='\\t', header=None)\n",
    "    return df, header_lines\n",
    "\n",
    "txt_file = paths.WESAD_ROOT / \"S2\" / \"S2_respiban.txt\"\n",
    "txt_df, header = read_opensignals_file(txt_file)\n",
    "print(txt_df.head())\n"
   ],
   "id": "6d091c9e51aec943",
   "outputs": [
    {
     "name": "stdout",
     "output_type": "stream",
     "text": [
      "   0   1      2      3      4      5      6      7      8      9   10\n",
      "0   0   0  31053  14694  32651  29553  37415  32324  31659  31364 NaN\n",
      "1   1   0  30861  14680  32983  29556  37417  32333  31663  31379 NaN\n",
      "2   2   0  30644  14684  32823  29561  37409  32340  31655  31367 NaN\n",
      "3   3   0  30374  14701  32569  29553  37405  32341  31671  31076 NaN\n",
      "4   4   0  30103  14684  32794  29561  37409  32342  31681  31365 NaN\n"
     ]
    }
   ],
   "execution_count": 17
  },
  {
   "metadata": {
    "ExecuteTime": {
     "end_time": "2025-07-16T06:02:26.244259Z",
     "start_time": "2025-07-16T06:02:23.006292Z"
    }
   },
   "cell_type": "code",
   "source": [
    "# 加载 pkl 数据\n",
    "with open(file_path, 'rb') as f:\n",
    "    pkl_data = pickle.load(f, encoding='bytes')\n",
    "\n",
    "# 查看结构\n",
    "print(\"signal 键:\", pkl_data[b'signal'].keys())\n",
    "print(\"chest 键:\", pkl_data[b'signal'][b'chest'].keys())\n",
    "\n",
    "# 查找 ECG 信号\n",
    "if b'ECG' in pkl_data[b'signal'][b'chest']:\n",
    "    ecg_pkl = pkl_data[b'signal'][b'chest'][b'ECG'].flatten()\n",
    "    print(\"ECG 数据形状:\", ecg_pkl.shape)\n",
    "\n",
    "    # 可视化前 1000 个点\n",
    "    plt.figure(figsize=(12, 4))\n",
    "    plt.plot(ecg_pkl[:1000])\n",
    "    plt.title(\"ECG Signal (from .pkl)\")\n",
    "    plt.xlabel(\"Sample Index\")\n",
    "    plt.ylabel(\"Amplitude\")\n",
    "    plt.show()\n",
    "else:\n",
    "    print(\"未找到 b'ECG' 键，请检查键名或文件内容\")\n"
   ],
   "id": "2a5059f2dfd93406",
   "outputs": [
    {
     "name": "stdout",
     "output_type": "stream",
     "text": [
      "加载文件: D:\\Apps\\Development\\Projects\\MultimodalSignal\\WESAD\\S2\\S2.pkl\n",
      "signal 键: dict_keys([b'chest', b'wrist'])\n",
      "chest 键: dict_keys([b'ACC', b'ECG', b'EMG', b'EDA', b'Temp', b'Resp'])\n",
      "ECG 数据形状: (4255300,)\n"
     ]
    },
    {
     "data": {
      "text/plain": [
       "<Figure size 1200x400 with 1 Axes>"
      ],
      "image/png": "[encoded data removed]"
     },
     "metadata": {},
     "output_type": "display_data"
    }
   ],
   "execution_count": 24
  },
  {
   "metadata": {
    "ExecuteTime": {
     "end_time": "2025-07-16T06:10:03.860799Z",
     "start_time": "2025-07-16T06:10:03.824099Z"
    }
   },
   "cell_type": "code",
   "source": [
    "# 查看 .pkl 中 ECG 的最大最小值\n",
    "print(\"PKL: Min = \", ecg_pkl.min(), \"Max = \", ecg_pkl.max())\n",
    "\n",
    "# 查看 .txt 中 CH1 的最大最小值\n",
    "print(\"TXT: Min = \", raw_ecg.min(), \"Max = \", raw_ecg.max())\n"
   ],
   "id": "a5c07ea16ce4a64d",
   "outputs": [
    {
     "name": "stdout",
     "output_type": "stream",
     "text": [
      "PKL: Min =  -1.499542236328125 Max =  1.4993133544921875\n",
      "TXT: Min =  10 Max =  65521\n"
     ]
    }
   ],
   "execution_count": 25
  },
  {
   "metadata": {
    "ExecuteTime": {
     "end_time": "2025-07-16T06:17:24.279569Z",
     "start_time": "2025-07-16T06:17:24.267004Z"
    }
   },
   "cell_type": "code",
   "source": [
    "import pprint\n",
    "\n",
    "pprint.pprint(pkl_data)\n"
   ],
   "id": "caba4b8151b25d9d",
   "outputs": [
    {
     "name": "stdout",
     "output_type": "stream",
     "text": [
      "{b'label': array([0, 0, 0, ..., 0, 0, 0], shape=(4255300,), dtype=int32),\n",
      " b'signal': {b'chest': {b'ACC': array([[ 0.95539999, -0.222     , -0.55799997],\n",
      "       [ 0.92579997, -0.2216    , -0.55379999],\n",
      "       [ 0.90820003, -0.21960002, -0.53920001],\n",
      "       ...,\n",
      "       [ 0.87179995, -0.12379998, -0.30419999],\n",
      "       [ 0.87300003, -0.12339997, -0.30260003],\n",
      "       [ 0.87020004, -0.12199998, -0.30220002]], shape=(4255300, 3)),\n",
      "                        b'ECG': array([[ 0.02142334],\n",
      "       [ 0.02032471],\n",
      "       [ 0.01652527],\n",
      "       ...,\n",
      "       [-0.00544739],\n",
      "       [ 0.00013733],\n",
      "       [ 0.0040741 ]], shape=(4255300, 1)),\n",
      "                        b'EDA': array([[5.25054932],\n",
      "       [5.26733398],\n",
      "       [5.24330139],\n",
      "       ...,\n",
      "       [0.36048889],\n",
      "       [0.36582947],\n",
      "       [0.365448  ]], shape=(4255300, 1)),\n",
      "                        b'EMG': array([[-0.00444031],\n",
      "       [ 0.00434875],\n",
      "       [ 0.00517273],\n",
      "       ...,\n",
      "       [-0.01716614],\n",
      "       [-0.02897644],\n",
      "       [-0.02357483]], shape=(4255300, 1)),\n",
      "                        b'Resp': array([[-1.14898682],\n",
      "       [-1.12457275],\n",
      "       [-1.15203857],\n",
      "       ...,\n",
      "       [-1.10321045],\n",
      "       [-1.08642578],\n",
      "       [-1.09710693]], shape=(4255300, 1)),\n",
      "                        b'Temp': array([[30.120758],\n",
      "       [30.129517],\n",
      "       [30.138214],\n",
      "       ...,\n",
      "       [31.459229],\n",
      "       [31.484283],\n",
      "       [31.456268]], shape=(4255300, 1), dtype=float32)},\n",
      "             b'wrist': {b'ACC': array([[ 62., -21., 107.],\n",
      "       [ 66.,  13.,  53.],\n",
      "       [ 41.,   9.,  15.],\n",
      "       ...,\n",
      "       [ 41.,  25.,  11.],\n",
      "       [ 39.,  27.,  22.],\n",
      "       [ 56.,  26.,  10.]], shape=(194528, 3)),\n",
      "                        b'BVP': array([[-59.37],\n",
      "       [-53.42],\n",
      "       [-44.4 ],\n",
      "       ...,\n",
      "       [ 18.26],\n",
      "       [ 18.68],\n",
      "       [ 19.71]], shape=(389056, 1)),\n",
      "                        b'EDA': array([[1.138257],\n",
      "       [1.125444],\n",
      "       [1.011405],\n",
      "       ...,\n",
      "       [0.059208],\n",
      "       [0.073303],\n",
      "       [0.045113]], shape=(24316, 1)),\n",
      "                        b'TEMP': array([[35.41],\n",
      "       [35.41],\n",
      "       [35.41],\n",
      "       ...,\n",
      "       [34.23],\n",
      "       [34.23],\n",
      "       [34.23]], shape=(24316, 1))}},\n",
      " b'subject': b'S2'}\n"
     ]
    }
   ],
   "execution_count": 29
  },
  {
   "metadata": {
    "ExecuteTime": {
     "end_time": "2025-07-16T06:28:56.947081Z",
     "start_time": "2025-07-16T06:28:56.932132Z"
    }
   },
   "cell_type": "code",
   "source": [
    "# csv主观问卷\n",
    "import pandas as pd\n",
    "import numpy as np\n",
    "import matplotlib.pyplot as plt\n",
    "\n",
    "# 设置文件路径\n",
    "csv_path = r'D:\\Apps\\Development\\Projects\\MultimodalSignal\\WESAD\\S2\\S2_quest.csv'\n",
    "\n",
    "# 读取 CSV 文件（使用分号作为分隔符）\n",
    "with open(csv_path, 'r') as f:\n",
    "    lines = f.readlines()\n",
    "\n",
    "# 提取数据行（去掉空行和注释行）\n",
    "data = []\n",
    "for line in lines:\n",
    "\n",
    "    data.append(line.strip().split(';'))\n",
    "\n",
    "# 构建 DataFrame\n",
    "df_raw = pd.DataFrame(data)\n",
    "\n",
    "# 显示原始数据前几行\n",
    "print(\"原始数据预览：\")\n",
    "print(df_raw)\n"
   ],
   "id": "62beb6d978970eb4",
   "outputs": [
    {
     "name": "stdout",
     "output_type": "stream",
     "text": [
      "原始数据预览：\n",
      "         0      1      2       3      4       5      6      7  8  9   ... 17  \\\n",
      "0    # Subj     S2                                                    ...      \n",
      "1   # ORDER   Base   TSST  Medi 1    Fun  Medi 2  sRead  fRead        ...      \n",
      "2   # START   7.08  39.55   70.19  81.25   93.38  54.42  89.51        ...      \n",
      "3     # END  26.32   50.3    77.1  87.47  100.15  56.07  91.15        ...      \n",
      "4                                                                     ...      \n",
      "5   # PANAS      1      1       3      2       1      3      1  1  1  ...  4   \n",
      "6   # PANAS      3      2       4      1       3      3      1  2  1  ...  4   \n",
      "7   # PANAS      1      1       2      3       1      2      1  1  1  ...  2   \n",
      "8   # PANAS      1      1       2      3       1      1      1  1  1  ...  1   \n",
      "9   # PANAS      1      1       1      2       1      1      1  1  1  ...  1   \n",
      "10                                                                    ...      \n",
      "11   # STAI      3      2       1      4       2      3               ...      \n",
      "12   # STAI      1      3       2      1       3      1               ...      \n",
      "13   # STAI      4      1       1      4       2      4               ...      \n",
      "14   # STAI      3      1       1      3       1      4               ...      \n",
      "15   # STAI      4      1       1      4       1      4               ...      \n",
      "16                                                                    ...      \n",
      "17    # DIM      7      2                                             ...      \n",
      "18    # DIM      5      4                                             ...      \n",
      "19    # DIM      7      2                                             ...      \n",
      "20    # DIM      8      1                                             ...      \n",
      "21    # DIM      7      2                                             ...      \n",
      "22                                                                    ...      \n",
      "23   # SSSQ      5      5       4      4       3      5               ...      \n",
      "\n",
      "   18 19 20 21 22 23 24 25 26  \n",
      "0                              \n",
      "1                              \n",
      "2                              \n",
      "3                              \n",
      "4                              \n",
      "5   4  2  2  2  1  2  1        \n",
      "6   4  2  3  3  3  2  1  3  1  \n",
      "7   3  1  1  1  1  4  1        \n",
      "8   3  1  1  1  2  3  1        \n",
      "9   2  1  1  1  1  3  1        \n",
      "10                             \n",
      "11                             \n",
      "12                             \n",
      "13                             \n",
      "14                             \n",
      "15                             \n",
      "16                             \n",
      "17                             \n",
      "18                             \n",
      "19                             \n",
      "20                             \n",
      "21                             \n",
      "22                             \n",
      "23                             \n",
      "\n",
      "[24 rows x 27 columns]\n"
     ]
    }
   ],
   "execution_count": 36
  },
  {
   "metadata": {},
   "cell_type": "code",
   "outputs": [],
   "execution_count": null,
   "source": "",
   "id": "9d28405dab7594d"
  }
 ],
 "metadata": {
  "kernelspec": {
   "display_name": "Python 3",
   "language": "python",
   "name": "python3"
  },
  "language_info": {
   "codemirror_mode": {
    "name": "ipython",
    "version": 2
   },
   "file_extension": ".py",
   "mimetype": "text/x-python",
   "name": "python",
   "nbconvert_exporter": "python",
   "pygments_lexer": "ipython2",
   "version": "2.7.6"
  }
 },
 "nbformat": 4,
 "nbformat_minor": 5
}
